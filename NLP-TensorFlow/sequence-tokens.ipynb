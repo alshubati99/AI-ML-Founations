{
  "cells": [
    {
      "cell_type": "markdown",
      "metadata": {
        "id": "x2_YdwCOp7Ky"
      },
      "source": [
        "# Creating sequences of tokens\n",
        "\n",
        "The notebook covers the creation of sequences of tokens from words in a sentence."
      ]
    },
    {
      "cell_type": "code",
      "execution_count": null,
      "metadata": {
        "id": "xeg4sf3Ap2j2",
        "vscode": {
          "languageId": "python"
        }
      },
      "outputs": [],
      "source": [
        "from tensorflow.keras.preprocessing.text import Tokenizer"
      ]
    },
    {
      "cell_type": "markdown",
      "metadata": {
        "id": "BvRxVQ1xc3XR"
      },
      "source": [
        "## Define training sentences in a list"
      ]
    },
    {
      "cell_type": "code",
      "execution_count": null,
      "metadata": {
        "id": "o9vIbV6tqPsB",
        "vscode": {
          "languageId": "python"
        }
      },
      "outputs": [],
      "source": [
        "##define list of sentences to tokenize\n",
        "train_sentences = [\n",
        "             'It is a sunny day',\n",
        "             'It is a cloudy day',\n",
        "             'Will it rain today?'\n",
        "\n",
        "]"
      ]
    },
    {
      "cell_type": "markdown",
      "metadata": {
        "id": "dijfmx8xdZ6F"
      },
      "source": [
        "## Train the tokenizer"
      ]
    },
    {
      "cell_type": "code",
      "execution_count": null,
      "metadata": {
        "id": "VptkQzDAqkgB",
        "vscode": {
          "languageId": "python"
        }
      },
      "outputs": [],
      "source": [
        "##set up the tokenizer\n",
        "tokenizer = Tokenizer(num_words=100)\n",
        "\n",
        "##train the tokenizer on training sentences\n",
        "tokenizer.fit_on_texts(train_sentences)\n",
        "\n",
        "##store word index for the words in the sentence\n",
        "word_index = tokenizer.word_index"
      ]
    },
    {
      "cell_type": "markdown",
      "metadata": {
        "id": "sioLj-JsddVl"
      },
      "source": [
        "## Create sequences"
      ]
    },
    {
      "cell_type": "code",
      "execution_count": null,
      "metadata": {
        "id": "0lcfheKeq2ak",
        "vscode": {
          "languageId": "python"
        }
      },
      "outputs": [],
      "source": [
        "##create sequences using tokenizer\n",
        "sequences = tokenizer.texts_to_sequences(train_sentences)\n"
      ]
    },
    {
      "cell_type": "code",
      "execution_count": null,
      "metadata": {
        "id": "CSmb-p0mrOqW",
        "vscode": {
          "languageId": "python"
        }
      },
      "outputs": [],
      "source": [
        "##print word index dictionary and sequences\n",
        "print(f\"Word index -->{word_index}\")\n",
        "print(f\"Sequences of words -->{sequences}\")"
      ]
    },
    {
      "cell_type": "code",
      "execution_count": null,
      "metadata": {
        "id": "YGY_CHTjrSra",
        "vscode": {
          "languageId": "python"
        }
      },
      "outputs": [],
      "source": [
        "##print sample sentence and sequence\n",
        "print(train_sentences[0])\n",
        "print(sequences[0])"
      ]
    },
    {
      "cell_type": "markdown",
      "metadata": {
        "id": "QojDIf_aseIE"
      },
      "source": [
        "## Tokenizing new data using the same tokenizer"
      ]
    },
    {
      "cell_type": "code",
      "execution_count": null,
      "metadata": {
        "id": "QnFZFUlXsbag",
        "vscode": {
          "languageId": "python"
        }
      },
      "outputs": [],
      "source": [
        "new_sentences = [\n",
        "                 'Will it be raining today?',\n",
        "                 'It is a pleasant day.'\n",
        "]"
      ]
    },
    {
      "cell_type": "code",
      "execution_count": null,
      "metadata": {
        "id": "VzWszj9BuDoY",
        "vscode": {
          "languageId": "python"
        }
      },
      "outputs": [],
      "source": [
        "new_sequences = tokenizer.texts_to_sequences(new_sentences)"
      ]
    },
    {
      "cell_type": "code",
      "execution_count": null,
      "metadata": {
        "id": "Ss1XZ8ttuK-d",
        "vscode": {
          "languageId": "python"
        }
      },
      "outputs": [],
      "source": [
        "print(new_sentences)\n",
        "print(new_sequences)"
      ]
    },
    {
      "cell_type": "markdown",
      "metadata": {
        "id": "uRaRs09MDvbv"
      },
      "source": [
        "## Replacing newly encountered words with special values"
      ]
    },
    {
      "cell_type": "code",
      "execution_count": null,
      "metadata": {
        "id": "1cD_c0zLuOAz",
        "vscode": {
          "languageId": "python"
        }
      },
      "outputs": [],
      "source": [
        "##set up the tokenizer again with oov_token\n",
        "tokenizer = Tokenizer(num_words=100, oov_token = \"<oov>\")\n",
        "\n",
        "##train the new tokenizer on training sentences\n",
        "tokenizer.fit_on_texts(train_sentences)\n",
        "\n",
        "##store word index for the words in the sentence\n",
        "word_index = tokenizer.word_index"
      ]
    },
    {
      "cell_type": "code",
      "execution_count": null,
      "metadata": {
        "id": "kwS1YySvFe2P",
        "vscode": {
          "languageId": "python"
        }
      },
      "outputs": [],
      "source": [
        "##create sequences of the new sentences\n",
        "new_sequences = tokenizer.texts_to_sequences(new_sentences)\n",
        "print(word_index)\n",
        "print(new_sentences)\n",
        "print(new_sequences)"
      ]
    },
    {
      "cell_type": "code",
      "execution_count": null,
      "metadata": {
        "id": "hwDQZ1rlqCJp",
        "vscode": {
          "languageId": "python"
        }
      },
      "outputs": [],
      "source": []
    }
  ],
  "metadata": {
    "accelerator": "GPU",
    "colab": {
      "authorship_tag": "ABX9TyPIoGfd9yMuQneLUl+dHV7n",
      "include_colab_link": true,
      "name": "01_03_end.ipynb",
      "private_outputs": true,
      "provenance": []
    },
    "kernelspec": {
      "display_name": "Python 3",
      "name": "python3"
    }
  },
  "nbformat": 4,
  "nbformat_minor": 0
}
