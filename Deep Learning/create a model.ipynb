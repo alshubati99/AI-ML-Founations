{
 "cells": [
  {
   "cell_type": "code",
   "execution_count": null,
   "metadata": {},
   "outputs": [],
   "source": [
    "from tenserflow import keras\n",
    "# Number of classes in the target variable: \n",
    "NB_CLASSES = 3\n",
    "# Create a sequencial model in Keras: \n",
    "model = tf.keras.models.Sequential()\n",
    "# Add the first hiddin layer:\n",
    "model.add(keras.layers.Dense(128, #number of nodes.\n",
    "                             input_shape = (4,), #number of input variables\n",
    "                             name = \"Hidden_layer-1\", # logical name\n",
    "                             activation = 'relu' #activation function\n",
    "                             ))\n",
    "# Add a second hidden layer:\n",
    "model.add(keras.layers.Dense(128,name='Hidden-layer-2', activation = 'relu'))\n",
    "# Add an output layer with softmax activation: \n",
    "model.add(keras.layers.Dense(NB_CLASSES, name = 'Output-layer', activation = 'softmax'))\n",
    "\n",
    "# Compile the model with loss & metrics:\n",
    "model.compile(loss='categorical_crossentropy', metrics = ['accuracy'])\n",
    "# Print the model meta-data:\n",
    "model.summary()\n"
   ]
  }
 ],
 "metadata": {
  "language_info": {
   "name": "python"
  },
  "orig_nbformat": 4
 },
 "nbformat": 4,
 "nbformat_minor": 2
}
