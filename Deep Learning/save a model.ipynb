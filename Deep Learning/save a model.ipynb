{
 "cells": [
  {
   "cell_type": "code",
   "execution_count": null,
   "metadata": {},
   "outputs": [],
   "source": [
    "# Saving a model:\n",
    "model.save(\"iris_save\")\n",
    "#Loading a model:\n",
    "loaded_model = keras.models.load_model(\"iris_save\")\n",
    "#print model summary:\n",
    "loaded_model.summary()"
   ]
  }
 ],
 "metadata": {
  "language_info": {
   "name": "python"
  },
  "orig_nbformat": 4
 },
 "nbformat": 4,
 "nbformat_minor": 2
}
