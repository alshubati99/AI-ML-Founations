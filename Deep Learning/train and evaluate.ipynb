{
 "cells": [
  {
   "cell_type": "code",
   "execution_count": null,
   "metadata": {},
   "outputs": [],
   "source": [
    "# Make it verbose so we can see the progress:\n",
    "VERBOSE = 1\n",
    "# Setup Hyper Parameteres for training:\n",
    "#Set batch size:\n",
    "BATCH_SIZE = 16.\n",
    "# Set number of Epochs:\n",
    "EPOCHS = 10\n",
    "# Set validation split. 20% of the training data will be used for validation after each epoch.\n",
    "VALIDATION_SPLIT=0.2\n",
    "print(\"\\nTrainging Progress:\\n-----------------\")\n",
    "# Fit the model theis will perform the entire training cycle, including forward propagation:\n",
    "history = model.fit(X_train, Y_train, batch_size = BATCH_SIZE,\n",
    "        epochs = EPOCHS, verbose = VERBOSE,\n",
    "        validation_split = VALIDATION_SPLIT)\n",
    "print (\"\\nAccruacy during Training: \\n----------------\")\n",
    "import matplotlib.pyplot as plt\n",
    "# Plot accuracy of the model after each epoch.\n",
    "pd.DataFrame(history.history)[\"accuracy\"].plot(figsize=(8,5))\n",
    "plt.title(\"Accuracy improvement with Epoch\")\n",
    "plt.show()\n",
    "# Evaluate the model against the test dataset and print resaults: \n",
    "print(\"\\nEvaluation against Test Dataset: \\n------------------\")\n",
    "model.evaluate(X_test, Y_test)\n"
   ]
  }
 ],
 "metadata": {
  "language_info": {
   "name": "python"
  },
  "orig_nbformat": 4
 },
 "nbformat": 4,
 "nbformat_minor": 2
}
