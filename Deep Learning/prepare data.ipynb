{
 "cells": [
  {
   "cell_type": "code",
   "execution_count": null,
   "metadata": {},
   "outputs": [],
   "source": [
    "import pandas as pd\n",
    "import os\n",
    "import tensorflow as tf\n",
    "import numpy as np\n",
    "from sklearn.model_selection import train_test_split\n",
    "from sklearn.preprocessing import StandardScaler\n",
    "# Load Data and Review Content:\n",
    "iris_data = pd.read_csv(\"iris.csv\")\n",
    "print(\"\\nLoaded Data: \\n---------------------------\")\n",
    "print(iris_data.head())\n",
    "# Use a Label encoder to convert string to numeric values:\n",
    "# For the target variable\n",
    "from sklearn import preprocessing\n",
    "label_encoder = preprocessing.LablelEncoder()\n",
    "iris_data['Species'] = label_encoder.fit_transorm(iris_data['Species'])\n",
    "# Convert input to numby array: \n",
    "np_iris = iris_data.to_numpy()\n",
    "# Separate feature and target variables: \n",
    "X_data = np_iris[:,0:4]\n",
    "Y_data= np_iris[:,4]\n",
    "print(\"\\nFeatures before scaling: \\n------------------------\")\n",
    "print(X_data[:5,:])\n",
    "print(\"\\nTarget before scaling:\\n-------------------------\")\n",
    "print(Y_data[:5])\n",
    "# Create a scalar model that is fit on the input data: \n",
    "scalar = StandardScaler().fit(X_data)\n",
    "# Scale the numberic Feature variable: \n",
    "X_data = scalar.transform(X_data)\n",
    "# Convert target variable as a one-hot-encoding array: \n",
    "Y_data = tf.keras.utils.to_categorical(Y_data, 3)\n",
    "print(\"\\nFeatures after scaling: \\n------------------------\")\n",
    "print(X_data[:5,:])\n",
    "print(\"\\nTarget after one-hot-encoding:\\n-------------------------\")\n",
    "print(Y_data[:5,:])\n",
    "# Split training and test data: \n",
    "X_train, X_test, Y_train, Y_test = train_test_split(X_data, Y_data, test_size = 0.10)\n",
    "print(\"\\nTrain Test Dimentions: \\n----------------\")\n",
    "print(X_train.shape, Y_train.shape, X_test.shape, Y_test.shape)\n",
    "\n",
    "\n"
   ]
  }
 ],
 "metadata": {
  "language_info": {
   "name": "python"
  },
  "orig_nbformat": 4
 },
 "nbformat": 4,
 "nbformat_minor": 2
}
